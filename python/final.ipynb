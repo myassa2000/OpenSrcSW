{
 "cells": [
  {
   "cell_type": "code",
   "execution_count": 7,
   "id": "386026b9",
   "metadata": {},
   "outputs": [
    {
     "name": "stdout",
     "output_type": "stream",
     "text": [
      "백신 접종이 가장 많이 된 날은 2021-06-28\n",
      "백신 접종이 가장 적게 된 날은 2021-01-28\n"
     ]
    }
   ],
   "source": [
    "import csv\n",
    "import matplotlib.pyplot as plt\n",
    "import pandas as pd\n",
    "\n",
    "f=open('country_vaccinations.csv')\n",
    "data=csv.reader(f)\n",
    "header=next(data)\n",
    "vaccine_data=[]\n",
    "for row in data:\n",
    "    vaccine_data+=row\n",
    "data_len = len(vaccine_data)\n",
    "countries=[vaccine_data[0][0]]\n",
    "for i in range(data_len-1):\n",
    "    if vaccine_data[i][0] != station_data[i+1][0]:\n",
    "        countries.append(vaccine_data[i+1][1])\n",
    "dates=[]\n",
    "for i in range(data_len-1):\n",
    "    if vaccine_data[i][2] != station_data[i+1][2]:\n",
    "        dates.append(vaccine_data[i+1][2])\n",
    "max_date=''\n",
    "min_date=''\n",
    "max=-999\n",
    "min=2000\n",
    "vaccines={}\n",
    "for row in data:\n",
    "    if row[7]=='':\n",
    "        row[7]=2000\n",
    "    row[7]=float(row[7])\n",
    "    if row[7]>max:\n",
    "        max=row[7]\n",
    "        max_date=row[2]\n",
    "    if row[7]<min:\n",
    "        min=row[7]\n",
    "        min_date=row[2]\n",
    "    if row[12] not in vaccines:\n",
    "        vaccines+=row[12]\n",
    "\n",
    "print('백신 접종이 가장 많이 된 날은', max_date)\n",
    "print('백신 접종이 가장 적게 된 날은', min_date)"
   ]
  },
  {
   "cell_type": "code",
   "execution_count": null,
   "id": "78b3c852",
   "metadata": {},
   "outputs": [],
   "source": []
  }
 ],
 "metadata": {
  "kernelspec": {
   "display_name": "Python 3 (ipykernel)",
   "language": "python",
   "name": "python3"
  },
  "language_info": {
   "codemirror_mode": {
    "name": "ipython",
    "version": 3
   },
   "file_extension": ".py",
   "mimetype": "text/x-python",
   "name": "python",
   "nbconvert_exporter": "python",
   "pygments_lexer": "ipython3",
   "version": "3.10.4"
  }
 },
 "nbformat": 4,
 "nbformat_minor": 5
}
