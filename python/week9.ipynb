{
 "cells": [
  {
   "cell_type": "code",
   "execution_count": 2,
   "id": "c3905169",
   "metadata": {},
   "outputs": [
    {
     "data": {
      "text/plain": [
       "(7, 36)"
      ]
     },
     "execution_count": 2,
     "metadata": {},
     "output_type": "execute_result"
    }
   ],
   "source": [
    "# 실습문제 1번\n",
    "\n",
    "time = 456\n",
    "h = 456 / 60\n",
    "m = 456 % 60\n",
    "int(h), m"
   ]
  },
  {
   "cell_type": "code",
   "execution_count": 5,
   "id": "23a7cac9",
   "metadata": {},
   "outputs": [
    {
     "name": "stdout",
     "output_type": "stream",
     "text": [
      "김철수 2.8\n"
     ]
    }
   ],
   "source": [
    "#실습문제 2번\n",
    "\n",
    "score = {\"홍길동\":3.4, \"임꺽정\":4.0, \"김철수\":2.8, \"이영희\":3.9}\n",
    "name = score.keys()\n",
    "name_list = list(name)\n",
    "name_list.sort()\n",
    "\n",
    "firstName = name_list[0]\n",
    "firstScore = score[firstName]\n",
    "print(firstName, firstScore)"
   ]
  }
 ],
 "metadata": {
  "kernelspec": {
   "display_name": "Python 3 (ipykernel)",
   "language": "python",
   "name": "python3"
  },
  "language_info": {
   "codemirror_mode": {
    "name": "ipython",
    "version": 3
   },
   "file_extension": ".py",
   "mimetype": "text/x-python",
   "name": "python",
   "nbconvert_exporter": "python",
   "pygments_lexer": "ipython3",
   "version": "3.10.4"
  }
 },
 "nbformat": 4,
 "nbformat_minor": 5
}
