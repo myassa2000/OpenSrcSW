{
 "cells": [
  {
   "cell_type": "code",
   "execution_count": 14,
   "id": "6414e2a9",
   "metadata": {},
   "outputs": [
    {
     "name": "stdout",
     "output_type": "stream",
     "text": [
      "        unit price  number  total price\n",
      "store1        1000      25        25000\n",
      "store2         280     120        33600\n",
      "store3         900      30        27000\n",
      "\n",
      "\n",
      "        unit price  number  total price\n",
      "store2         280     120        33600\n"
     ]
    }
   ],
   "source": [
    "# 실습문제 1번\n",
    "import pandas as pd\n",
    "import numpy as np\n",
    "\n",
    "data = [[1000, 25], [280, 120], [900, 30]]\n",
    "df = pd.DataFrame(data, index = ['store1', 'store2', 'store3'], columns = ['unit price', 'number'])\n",
    "df['total price'] = df['unit price'] * df['number']\n",
    "print(df)\n",
    "print('\\n')\n",
    "df2 = df[df['total price']==max(df['total price'])]\n",
    "print(df2)"
   ]
  }
 ],
 "metadata": {
  "kernelspec": {
   "display_name": "Python 3 (ipykernel)",
   "language": "python",
   "name": "python3"
  },
  "language_info": {
   "codemirror_mode": {
    "name": "ipython",
    "version": 3
   },
   "file_extension": ".py",
   "mimetype": "text/x-python",
   "name": "python",
   "nbconvert_exporter": "python",
   "pygments_lexer": "ipython3",
   "version": "3.10.4"
  }
 },
 "nbformat": 4,
 "nbformat_minor": 5
}
